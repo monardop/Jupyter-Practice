{
 "cells": [
  {
   "cell_type": "code",
   "execution_count": 1,
   "id": "08f6b650-25e3-457b-b435-523e43bfe140",
   "metadata": {},
   "outputs": [],
   "source": [
    "import pandas as pd"
   ]
  },
  {
   "cell_type": "code",
   "execution_count": 2,
   "id": "f64c2fa2-3d3f-4fec-93f5-7bb348123638",
   "metadata": {},
   "outputs": [],
   "source": [
    "data = pd.read_csv(r\"C:\\Users\\User\\Desktop\\Jupyter-Practice\\GoldPrice\\goldprice.csv\")"
   ]
  },
  {
   "cell_type": "code",
   "execution_count": 3,
   "id": "16aa4103-3a8c-4bd6-a090-f43eb3f16675",
   "metadata": {},
   "outputs": [],
   "source": [
    "data[\"Date\"] = pd.to_datetime(data[\"Date\"])"
   ]
  },
  {
   "cell_type": "code",
   "execution_count": 4,
   "id": "a81edd39-9402-4b98-ab2e-ccd38c5c1a99",
   "metadata": {},
   "outputs": [],
   "source": [
    "years = data[\"Date\"].dt.year"
   ]
  },
  {
   "cell_type": "code",
   "execution_count": 5,
   "id": "e89ce4b8-7290-47d0-aa69-ee2e48d902f9",
   "metadata": {
    "tags": []
   },
   "outputs": [
    {
     "name": "stdout",
     "output_type": "stream",
     "text": [
      "<class 'pandas.core.frame.DataFrame'>\n",
      "RangeIndex: 9771 entries, 0 to 9770\n",
      "Data columns (total 5 columns):\n",
      " #   Column  Non-Null Count  Dtype         \n",
      "---  ------  --------------  -----         \n",
      " 0   Date    9771 non-null   datetime64[ns]\n",
      " 1   Price   9771 non-null   float64       \n",
      " 2   Open    9771 non-null   float64       \n",
      " 3   High    9771 non-null   float64       \n",
      " 4   Low     9771 non-null   float64       \n",
      "dtypes: datetime64[ns](1), float64(4)\n",
      "memory usage: 381.8 KB\n"
     ]
    }
   ],
   "source": [
    "data.info()"
   ]
  },
  {
   "cell_type": "code",
   "execution_count": 6,
   "id": "d45ed69b-0cb0-497b-88c1-c4775fb853fb",
   "metadata": {},
   "outputs": [],
   "source": [
    "data[\"Years\"] = years"
   ]
  },
  {
   "cell_type": "code",
   "execution_count": 7,
   "id": "889de13e-e428-434e-b338-03cf2c421396",
   "metadata": {
    "collapsed": true,
    "jupyter": {
     "outputs_hidden": true
    },
    "tags": []
   },
   "outputs": [
    {
     "data": {
      "text/html": [
       "<div>\n",
       "<style scoped>\n",
       "    .dataframe tbody tr th:only-of-type {\n",
       "        vertical-align: middle;\n",
       "    }\n",
       "\n",
       "    .dataframe tbody tr th {\n",
       "        vertical-align: top;\n",
       "    }\n",
       "\n",
       "    .dataframe thead th {\n",
       "        text-align: right;\n",
       "    }\n",
       "</style>\n",
       "<table border=\"1\" class=\"dataframe\">\n",
       "  <thead>\n",
       "    <tr style=\"text-align: right;\">\n",
       "      <th></th>\n",
       "      <th>Price</th>\n",
       "      <th>Open</th>\n",
       "      <th>High</th>\n",
       "      <th>Low</th>\n",
       "    </tr>\n",
       "    <tr>\n",
       "      <th>Years</th>\n",
       "      <th></th>\n",
       "      <th></th>\n",
       "      <th></th>\n",
       "      <th></th>\n",
       "    </tr>\n",
       "  </thead>\n",
       "  <tbody>\n",
       "    <tr>\n",
       "      <th>1979</th>\n",
       "      <td>522.300000</td>\n",
       "      <td>520.293333</td>\n",
       "      <td>523.100000</td>\n",
       "      <td>517.093333</td>\n",
       "    </tr>\n",
       "    <tr>\n",
       "      <th>1980</th>\n",
       "      <td>611.959921</td>\n",
       "      <td>613.400397</td>\n",
       "      <td>620.676984</td>\n",
       "      <td>603.833730</td>\n",
       "    </tr>\n",
       "    <tr>\n",
       "      <th>1981</th>\n",
       "      <td>458.490514</td>\n",
       "      <td>459.038735</td>\n",
       "      <td>461.826877</td>\n",
       "      <td>455.316601</td>\n",
       "    </tr>\n",
       "    <tr>\n",
       "      <th>1982</th>\n",
       "      <td>375.563745</td>\n",
       "      <td>375.357769</td>\n",
       "      <td>378.255378</td>\n",
       "      <td>372.517928</td>\n",
       "    </tr>\n",
       "    <tr>\n",
       "      <th>1983</th>\n",
       "      <td>423.452964</td>\n",
       "      <td>423.716601</td>\n",
       "      <td>425.510672</td>\n",
       "      <td>421.388538</td>\n",
       "    </tr>\n",
       "    <tr>\n",
       "      <th>1984</th>\n",
       "      <td>360.656522</td>\n",
       "      <td>360.593676</td>\n",
       "      <td>361.816996</td>\n",
       "      <td>359.466798</td>\n",
       "    </tr>\n",
       "    <tr>\n",
       "      <th>1985</th>\n",
       "      <td>317.517460</td>\n",
       "      <td>317.451984</td>\n",
       "      <td>318.415476</td>\n",
       "      <td>316.642460</td>\n",
       "    </tr>\n",
       "    <tr>\n",
       "      <th>1986</th>\n",
       "      <td>368.330677</td>\n",
       "      <td>368.270518</td>\n",
       "      <td>369.411554</td>\n",
       "      <td>366.964143</td>\n",
       "    </tr>\n",
       "    <tr>\n",
       "      <th>1987</th>\n",
       "      <td>447.056522</td>\n",
       "      <td>447.150988</td>\n",
       "      <td>448.533597</td>\n",
       "      <td>445.621344</td>\n",
       "    </tr>\n",
       "    <tr>\n",
       "      <th>1988</th>\n",
       "      <td>437.059524</td>\n",
       "      <td>437.184127</td>\n",
       "      <td>438.155952</td>\n",
       "      <td>436.121032</td>\n",
       "    </tr>\n",
       "    <tr>\n",
       "      <th>1989</th>\n",
       "      <td>382.072222</td>\n",
       "      <td>381.876984</td>\n",
       "      <td>382.792063</td>\n",
       "      <td>381.041270</td>\n",
       "    </tr>\n",
       "    <tr>\n",
       "      <th>1990</th>\n",
       "      <td>383.798016</td>\n",
       "      <td>383.827778</td>\n",
       "      <td>384.955952</td>\n",
       "      <td>382.587698</td>\n",
       "    </tr>\n",
       "    <tr>\n",
       "      <th>1991</th>\n",
       "      <td>362.462698</td>\n",
       "      <td>362.802778</td>\n",
       "      <td>363.058730</td>\n",
       "      <td>361.838492</td>\n",
       "    </tr>\n",
       "    <tr>\n",
       "      <th>1992</th>\n",
       "      <td>343.773333</td>\n",
       "      <td>343.874510</td>\n",
       "      <td>344.218431</td>\n",
       "      <td>343.480000</td>\n",
       "    </tr>\n",
       "    <tr>\n",
       "      <th>1993</th>\n",
       "      <td>360.171260</td>\n",
       "      <td>360.271260</td>\n",
       "      <td>360.885039</td>\n",
       "      <td>359.447244</td>\n",
       "    </tr>\n",
       "    <tr>\n",
       "      <th>1994</th>\n",
       "      <td>384.077689</td>\n",
       "      <td>384.259363</td>\n",
       "      <td>384.788446</td>\n",
       "      <td>383.576096</td>\n",
       "    </tr>\n",
       "    <tr>\n",
       "      <th>1995</th>\n",
       "      <td>384.484585</td>\n",
       "      <td>384.553360</td>\n",
       "      <td>384.942688</td>\n",
       "      <td>384.184585</td>\n",
       "    </tr>\n",
       "    <tr>\n",
       "      <th>1996</th>\n",
       "      <td>387.891304</td>\n",
       "      <td>387.987352</td>\n",
       "      <td>388.333597</td>\n",
       "      <td>387.498024</td>\n",
       "    </tr>\n",
       "    <tr>\n",
       "      <th>1997</th>\n",
       "      <td>331.435317</td>\n",
       "      <td>331.612302</td>\n",
       "      <td>332.075000</td>\n",
       "      <td>330.922619</td>\n",
       "    </tr>\n",
       "    <tr>\n",
       "      <th>1998</th>\n",
       "      <td>294.214343</td>\n",
       "      <td>294.321116</td>\n",
       "      <td>294.898805</td>\n",
       "      <td>293.691235</td>\n",
       "    </tr>\n",
       "    <tr>\n",
       "      <th>1999</th>\n",
       "      <td>278.890000</td>\n",
       "      <td>279.009600</td>\n",
       "      <td>279.596400</td>\n",
       "      <td>278.329600</td>\n",
       "    </tr>\n",
       "    <tr>\n",
       "      <th>2000</th>\n",
       "      <td>278.885141</td>\n",
       "      <td>278.853012</td>\n",
       "      <td>279.569880</td>\n",
       "      <td>278.330120</td>\n",
       "    </tr>\n",
       "    <tr>\n",
       "      <th>2001</th>\n",
       "      <td>271.068826</td>\n",
       "      <td>270.969231</td>\n",
       "      <td>271.480162</td>\n",
       "      <td>270.496761</td>\n",
       "    </tr>\n",
       "    <tr>\n",
       "      <th>2002</th>\n",
       "      <td>310.479032</td>\n",
       "      <td>310.312903</td>\n",
       "      <td>311.226210</td>\n",
       "      <td>309.599194</td>\n",
       "    </tr>\n",
       "    <tr>\n",
       "      <th>2003</th>\n",
       "      <td>363.620884</td>\n",
       "      <td>363.479518</td>\n",
       "      <td>364.760241</td>\n",
       "      <td>362.385944</td>\n",
       "    </tr>\n",
       "    <tr>\n",
       "      <th>2004</th>\n",
       "      <td>409.579839</td>\n",
       "      <td>409.645565</td>\n",
       "      <td>410.743145</td>\n",
       "      <td>408.318952</td>\n",
       "    </tr>\n",
       "    <tr>\n",
       "      <th>2005</th>\n",
       "      <td>445.112749</td>\n",
       "      <td>444.941434</td>\n",
       "      <td>446.096813</td>\n",
       "      <td>443.929880</td>\n",
       "    </tr>\n",
       "    <tr>\n",
       "      <th>2006</th>\n",
       "      <td>603.977381</td>\n",
       "      <td>604.033730</td>\n",
       "      <td>606.077381</td>\n",
       "      <td>601.665873</td>\n",
       "    </tr>\n",
       "    <tr>\n",
       "      <th>2007</th>\n",
       "      <td>697.005159</td>\n",
       "      <td>696.696032</td>\n",
       "      <td>698.968254</td>\n",
       "      <td>694.639683</td>\n",
       "    </tr>\n",
       "    <tr>\n",
       "      <th>2008</th>\n",
       "      <td>870.982609</td>\n",
       "      <td>872.144269</td>\n",
       "      <td>879.829249</td>\n",
       "      <td>863.409881</td>\n",
       "    </tr>\n",
       "    <tr>\n",
       "      <th>2009</th>\n",
       "      <td>974.149206</td>\n",
       "      <td>974.072222</td>\n",
       "      <td>981.236905</td>\n",
       "      <td>966.254762</td>\n",
       "    </tr>\n",
       "    <tr>\n",
       "      <th>2010</th>\n",
       "      <td>1227.501984</td>\n",
       "      <td>1226.680159</td>\n",
       "      <td>1234.019048</td>\n",
       "      <td>1219.309921</td>\n",
       "    </tr>\n",
       "    <tr>\n",
       "      <th>2011</th>\n",
       "      <td>1572.135714</td>\n",
       "      <td>1572.915476</td>\n",
       "      <td>1583.508333</td>\n",
       "      <td>1560.788492</td>\n",
       "    </tr>\n",
       "    <tr>\n",
       "      <th>2012</th>\n",
       "      <td>1669.157143</td>\n",
       "      <td>1668.988889</td>\n",
       "      <td>1676.487302</td>\n",
       "      <td>1659.990873</td>\n",
       "    </tr>\n",
       "    <tr>\n",
       "      <th>2013</th>\n",
       "      <td>1407.275781</td>\n",
       "      <td>1409.304297</td>\n",
       "      <td>1417.727344</td>\n",
       "      <td>1398.032031</td>\n",
       "    </tr>\n",
       "    <tr>\n",
       "      <th>2014</th>\n",
       "      <td>1265.730534</td>\n",
       "      <td>1265.525954</td>\n",
       "      <td>1271.298473</td>\n",
       "      <td>1259.829389</td>\n",
       "    </tr>\n",
       "    <tr>\n",
       "      <th>2015</th>\n",
       "      <td>1160.310227</td>\n",
       "      <td>1160.870076</td>\n",
       "      <td>1166.678788</td>\n",
       "      <td>1154.668182</td>\n",
       "    </tr>\n",
       "    <tr>\n",
       "      <th>2016</th>\n",
       "      <td>1248.176604</td>\n",
       "      <td>1248.005660</td>\n",
       "      <td>1255.206792</td>\n",
       "      <td>1241.415472</td>\n",
       "    </tr>\n",
       "    <tr>\n",
       "      <th>2017</th>\n",
       "      <td>1257.635303</td>\n",
       "      <td>1257.263333</td>\n",
       "      <td>1261.366212</td>\n",
       "      <td>1253.072841</td>\n",
       "    </tr>\n",
       "    <tr>\n",
       "      <th>2018</th>\n",
       "      <td>1305.352258</td>\n",
       "      <td>1305.656774</td>\n",
       "      <td>1309.180645</td>\n",
       "      <td>1301.761935</td>\n",
       "    </tr>\n",
       "  </tbody>\n",
       "</table>\n",
       "</div>"
      ],
      "text/plain": [
       "             Price         Open         High          Low\n",
       "Years                                                    \n",
       "1979    522.300000   520.293333   523.100000   517.093333\n",
       "1980    611.959921   613.400397   620.676984   603.833730\n",
       "1981    458.490514   459.038735   461.826877   455.316601\n",
       "1982    375.563745   375.357769   378.255378   372.517928\n",
       "1983    423.452964   423.716601   425.510672   421.388538\n",
       "1984    360.656522   360.593676   361.816996   359.466798\n",
       "1985    317.517460   317.451984   318.415476   316.642460\n",
       "1986    368.330677   368.270518   369.411554   366.964143\n",
       "1987    447.056522   447.150988   448.533597   445.621344\n",
       "1988    437.059524   437.184127   438.155952   436.121032\n",
       "1989    382.072222   381.876984   382.792063   381.041270\n",
       "1990    383.798016   383.827778   384.955952   382.587698\n",
       "1991    362.462698   362.802778   363.058730   361.838492\n",
       "1992    343.773333   343.874510   344.218431   343.480000\n",
       "1993    360.171260   360.271260   360.885039   359.447244\n",
       "1994    384.077689   384.259363   384.788446   383.576096\n",
       "1995    384.484585   384.553360   384.942688   384.184585\n",
       "1996    387.891304   387.987352   388.333597   387.498024\n",
       "1997    331.435317   331.612302   332.075000   330.922619\n",
       "1998    294.214343   294.321116   294.898805   293.691235\n",
       "1999    278.890000   279.009600   279.596400   278.329600\n",
       "2000    278.885141   278.853012   279.569880   278.330120\n",
       "2001    271.068826   270.969231   271.480162   270.496761\n",
       "2002    310.479032   310.312903   311.226210   309.599194\n",
       "2003    363.620884   363.479518   364.760241   362.385944\n",
       "2004    409.579839   409.645565   410.743145   408.318952\n",
       "2005    445.112749   444.941434   446.096813   443.929880\n",
       "2006    603.977381   604.033730   606.077381   601.665873\n",
       "2007    697.005159   696.696032   698.968254   694.639683\n",
       "2008    870.982609   872.144269   879.829249   863.409881\n",
       "2009    974.149206   974.072222   981.236905   966.254762\n",
       "2010   1227.501984  1226.680159  1234.019048  1219.309921\n",
       "2011   1572.135714  1572.915476  1583.508333  1560.788492\n",
       "2012   1669.157143  1668.988889  1676.487302  1659.990873\n",
       "2013   1407.275781  1409.304297  1417.727344  1398.032031\n",
       "2014   1265.730534  1265.525954  1271.298473  1259.829389\n",
       "2015   1160.310227  1160.870076  1166.678788  1154.668182\n",
       "2016   1248.176604  1248.005660  1255.206792  1241.415472\n",
       "2017   1257.635303  1257.263333  1261.366212  1253.072841\n",
       "2018   1305.352258  1305.656774  1309.180645  1301.761935"
      ]
     },
     "execution_count": 7,
     "metadata": {},
     "output_type": "execute_result"
    }
   ],
   "source": [
    "data.groupby(\"Years\").mean()"
   ]
  },
  {
   "cell_type": "code",
   "execution_count": 8,
   "id": "07f0bf08-71ef-45ab-bc39-0a24bf5a9f78",
   "metadata": {
    "tags": []
   },
   "outputs": [
    {
     "data": {
      "text/plain": [
       "<AxesSubplot:title={'center':\"Mean annual gold's price\"}, xlabel='Years'>"
      ]
     },
     "execution_count": 8,
     "metadata": {},
     "output_type": "execute_result"
    },
    {
     "data": {
      "image/png": "[encoded data removed]",
      "text/plain": [
       "<Figure size 640x480 with 1 Axes>"
      ]
     },
     "metadata": {},
     "output_type": "display_data"
    }
   ],
   "source": [
    "mean_prices = data.groupby(\"Years\").mean()[\"Price\"]\n",
    "mean_prices.plot.bar(title=\"Mean annual gold's price\")"
   ]
  },
  {
   "cell_type": "code",
   "execution_count": 10,
   "id": "0ec6d894-3782-4e39-b529-93d799dd3961",
   "metadata": {},
   "outputs": [
    {
     "data": {
      "text/plain": [
       "(1888.7, 253.0)"
      ]
     },
     "execution_count": 10,
     "metadata": {},
     "output_type": "execute_result"
    }
   ],
   "source": [
    "max = data[\"Price\"].max()\n",
    "min = data[\"Price\"].min()\n",
    "max, min"
   ]
  },
  {
   "cell_type": "code",
   "execution_count": 15,
   "id": "f0ee3a8a",
   "metadata": {},
   "outputs": [
    {
     "data": {
      "text/plain": [
       "1809    2011\n",
       "Name: Years, dtype: int64"
      ]
     },
     "execution_count": 15,
     "metadata": {},
     "output_type": "execute_result"
    }
   ],
   "source": [
    "data[data[\"Price\"]==max][\"Years\"]"
   ]
  },
  {
   "cell_type": "code",
   "execution_count": 16,
   "id": "b1d35861",
   "metadata": {},
   "outputs": [
    {
     "data": {
      "text/plain": [
       "4810    1999\n",
       "Name: Years, dtype: int64"
      ]
     },
     "execution_count": 16,
     "metadata": {},
     "output_type": "execute_result"
    }
   ],
   "source": [
    "data[data[\"Price\"]==min][\"Years\"]"
   ]
  }
 ],
 "metadata": {
  "kernelspec": {
   "display_name": "Python 3 (ipykernel)",
   "language": "python",
   "name": "python3"
  },
  "language_info": {
   "codemirror_mode": {
    "name": "ipython",
    "version": 3
   },
   "file_extension": ".py",
   "mimetype": "text/x-python",
   "name": "python",
   "nbconvert_exporter": "python",
   "pygments_lexer": "ipython3",
   "version": "3.9.13"
  }
 },
 "nbformat": 4,
 "nbformat_minor": 5
}
